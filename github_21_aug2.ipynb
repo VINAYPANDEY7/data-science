{
  "nbformat": 4,
  "nbformat_minor": 0,
  "metadata": {
    "colab": {
      "name": "github 21 aug2.ipynb",
      "provenance": []
    },
    "kernelspec": {
      "name": "python3",
      "display_name": "Python 3"
    },
    "language_info": {
      "name": "python"
    }
  },
  "cells": [
    {
      "cell_type": "code",
      "metadata": {
        "colab": {
          "base_uri": "https://localhost:8080/"
        },
        "id": "RfY8AzHbDQ5g",
        "outputId": "164911ef-ed7e-4c89-adcd-72858042d2ed"
      },
      "source": [
        "print('start learning')"
      ],
      "execution_count": 1,
      "outputs": [
        {
          "output_type": "stream",
          "text": [
            "start learning\n"
          ],
          "name": "stdout"
        }
      ]
    },
    {
      "cell_type": "code",
      "metadata": {
        "colab": {
          "base_uri": "https://localhost:8080/"
        },
        "id": "dllpmKkOJ7Bh",
        "outputId": "1fa06622-55e2-4703-dc60-91c2dde485bc"
      },
      "source": [
        "print('welcom')\n",
        "a = input('enter name: ')\n",
        "b = input('enter age: ')"
      ],
      "execution_count": 2,
      "outputs": [
        {
          "output_type": "stream",
          "text": [
            "welcom\n",
            "enter name: vinay\n",
            "enter age: 30\n"
          ],
          "name": "stdout"
        }
      ]
    }
  ]
}